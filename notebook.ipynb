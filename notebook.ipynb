{
 "cells": [
  {
   "cell_type": "markdown",
   "id": "be406824",
   "metadata": {},
   "source": [
    "## Proximal Policy Optimization (PPO) ##\n",
    "\n",
    "Основные характеристики:\n",
    "\n",
    "- Model-free\n",
    "- Actor-Critic(Актор - реализует политику, т.е выбирает действие. Критик - оценивает действия)\n",
    "- On-policy\n",
    "\n",
    "\n",
    "<img src=\"images/sensors-20-01359-g003.png\" alt=\"image\" width=\"70%\" height=\"auto\">\n",
    "\n",
    "Чтобы избежать резких изменений стратегии вводится:\n",
    "\n",
    "$r(\\theta) = \\frac{\\pi_{\\theta} (a | s)}{\\pi_{\\theta_{old}} (a | s)}$\n",
    "\n",
    "это показывает насколько изменилась вероятность выбора конкретного действия после обновления параметров. Если $r(\\theta)$ сильно отклоняется от 1, значит, новая политика слишком отличается от старой, и это может быть опасно для стабильности обучения\n",
    "\n",
    "$\\hat{A}$ - оценка преимущества действия\n",
    "\n",
    "$L^{CLIP} = \\mathbb{E}[min(r_t(\\theta) A_t, clip(r_t(\\theta) A_t, 1 - \\epsilon, 1 + \\epsilon))]$, где\n",
    "\n",
    "$\\quad \\epsilon$ - гиперпараметр для \"обрезки\"(обычно 0.1-0.3)\n",
    "\n",
    "Итоговый loss:\n",
    "\n",
    "$L^{PPO}(\\theta) = L^{CLIP}(\\theta) + c_1 L^{VF}(\\theta) - c_2 S[\\pi_{\\theta}](s_t)$\n",
    "\n",
    "- $L^{VF}(\\theta)$ - loss для критика(value function)\n",
    "- $S[\\pi_{\\theta}](s_t)$ - энтропия, отвечает за exploraion\n",
    "\n",
    "__Note__:\n",
    "\n",
    "В SB3 используется оптимизатор `ADAM`, вместо `SGD`"
   ]
  },
  {
   "cell_type": "code",
   "execution_count": 1,
   "id": "701d910b",
   "metadata": {},
   "outputs": [],
   "source": [
    "import gymnasium as gym\n",
    "from stable_baselines3 import PPO\n",
    "from stable_baselines3.common.monitor import Monitor\n",
    "from stable_baselines3.common.callbacks import EvalCallback, CallbackList\n",
    "from stable_baselines3.common.vec_env import DummyVecEnv\n",
    "import matplotlib.pyplot as plt\n",
    "import numpy as np\n",
    "import os"
   ]
  },
  {
   "cell_type": "code",
   "execution_count": 2,
   "id": "c7dc3fca",
   "metadata": {},
   "outputs": [],
   "source": [
    "# 1. Создание среды и оберток\n",
    "env = gym.make(\"CartPole-v1\") # \n",
    "env = Monitor(env, \"./logs/\")  # Логирование статистики\n",
    "env = DummyVecEnv([lambda: env])  # Векторизация для ускорения\n"
   ]
  },
  {
   "cell_type": "code",
   "execution_count": 3,
   "id": "2a6cb432",
   "metadata": {},
   "outputs": [],
   "source": [
    "# 2. Гиперпараметры PPO\n",
    "config = {\n",
    "    \"policy\": \"MlpPolicy\",\n",
    "    \"learning_rate\": 3e-4,\n",
    "    \"n_steps\": 2048,          # Число шагов перед обновлением\n",
    "    \"batch_size\": 64,         # Размер батча для обучения\n",
    "    \"n_epochs\": 10,           # Число эпох на один набор данных\n",
    "    \"gamma\": 0.99,            # Коэффициент дисконтирования\n",
    "    \"gae_lambda\": 0.95,       # Параметр для GAE\n",
    "    \"ent_coef\": 0.01,         # Коэффициент энтропии\n",
    "    \"verbose\": 1              # Вывод логов\n",
    "}"
   ]
  },
  {
   "cell_type": "code",
   "execution_count": 4,
   "id": "ceea515a",
   "metadata": {},
   "outputs": [
    {
     "name": "stdout",
     "output_type": "stream",
     "text": [
      "Using cpu device\n"
     ]
    }
   ],
   "source": [
    "# 3. Инициализация модели PPO\n",
    "model = PPO(\n",
    "    policy=config[\"policy\"],\n",
    "    env=env,\n",
    "    learning_rate=config[\"learning_rate\"],\n",
    "    n_steps=config[\"n_steps\"],\n",
    "    batch_size=config[\"batch_size\"],\n",
    "    n_epochs=config[\"n_epochs\"],\n",
    "    gamma=config[\"gamma\"],\n",
    "    gae_lambda=config[\"gae_lambda\"],\n",
    "    ent_coef=config[\"ent_coef\"],\n",
    "    verbose=config[\"verbose\"]\n",
    ")"
   ]
  },
  {
   "cell_type": "code",
   "execution_count": 5,
   "id": "7afe652c",
   "metadata": {},
   "outputs": [],
   "source": [
    "# 4. Callbacks для оценки и сохранения модели\n",
    "eval_callback = EvalCallback(\n",
    "    env,\n",
    "    best_model_save_path=\"./best_model/\",\n",
    "    log_path=\"./logs/\",\n",
    "    eval_freq=5000,           # Частота оценки (в шагах)\n",
    "    deterministic=True\n",
    ")"
   ]
  },
  {
   "cell_type": "code",
   "execution_count": 6,
   "id": "519e1adf",
   "metadata": {},
   "outputs": [
    {
     "data": {
      "application/vnd.jupyter.widget-view+json": {
       "model_id": "c99d816fbdc64cf5ade32757f3f8895d",
       "version_major": 2,
       "version_minor": 0
      },
      "text/plain": [
       "Output()"
      ]
     },
     "metadata": {},
     "output_type": "display_data"
    },
    {
     "name": "stdout",
     "output_type": "stream",
     "text": [
      "---------------------------------\n",
      "| rollout/           |          |\n",
      "|    ep_len_mean     | 23.1     |\n",
      "|    ep_rew_mean     | 23.1     |\n",
      "| time/              |          |\n",
      "|    fps             | 754      |\n",
      "|    iterations      | 1        |\n",
      "|    time_elapsed    | 2        |\n",
      "|    total_timesteps | 2048     |\n",
      "---------------------------------\n"
     ]
    },
    {
     "name": "stdout",
     "output_type": "stream",
     "text": [
      "-----------------------------------------\n",
      "| rollout/                |             |\n",
      "|    ep_len_mean          | 24.8        |\n",
      "|    ep_rew_mean          | 24.8        |\n",
      "| time/                   |             |\n",
      "|    fps                  | 503         |\n",
      "|    iterations           | 2           |\n",
      "|    time_elapsed         | 8           |\n",
      "|    total_timesteps      | 4096        |\n",
      "| train/                  |             |\n",
      "|    approx_kl            | 0.008925831 |\n",
      "|    clip_fraction        | 0.11        |\n",
      "|    clip_range           | 0.2         |\n",
      "|    entropy_loss         | -0.686      |\n",
      "|    explained_variance   | -0.000682   |\n",
      "|    learning_rate        | 0.0003      |\n",
      "|    loss                 | 7.16        |\n",
      "|    n_updates            | 10          |\n",
      "|    policy_gradient_loss | -0.0169     |\n",
      "|    value_loss           | 52.7        |\n",
      "-----------------------------------------\n"
     ]
    },
    {
     "data": {
      "text/html": [
       "<pre style=\"white-space:pre;overflow-x:auto;line-height:normal;font-family:Menlo,'DejaVu Sans Mono',consolas,'Courier New',monospace\"></pre>\n"
      ],
      "text/plain": []
     },
     "metadata": {},
     "output_type": "display_data"
    },
    {
     "data": {
      "text/plain": [
       "<stable_baselines3.ppo.ppo.PPO at 0x1e69c43f260>"
      ]
     },
     "execution_count": 6,
     "metadata": {},
     "output_type": "execute_result"
    }
   ],
   "source": [
    "# 5. Обучение модели\n",
    "total_timesteps = 3000 # 100_000\n",
    "model.learn(\n",
    "    total_timesteps=total_timesteps,\n",
    "    callback=eval_callback,\n",
    "    progress_bar=True\n",
    ")"
   ]
  },
  {
   "cell_type": "code",
   "execution_count": 7,
   "id": "181d4b72",
   "metadata": {},
   "outputs": [
    {
     "name": "stdout",
     "output_type": "stream",
     "text": [
      "Модель сохранена в ppo_cartpole.zip\n"
     ]
    }
   ],
   "source": [
    "# 6. Сохранение модели\n",
    "model.save(\"./ppo_cartpole\")\n",
    "print(\"Модель сохранена в ppo_cartpole.zip\")"
   ]
  },
  {
   "cell_type": "code",
   "execution_count": 9,
   "id": "ca471b14",
   "metadata": {},
   "outputs": [
    {
     "data": {
      "image/png": "[encoded data removed]",
      "text/plain": [
       "<Figure size 1000x500 with 1 Axes>"
      ]
     },
     "metadata": {},
     "output_type": "display_data"
    },
    {
     "name": "stdout",
     "output_type": "stream",
     "text": [
      "Средняя награда за 1000 шагов: 1.00\n",
      "Максимальная награда: 1.0\n",
      "Общее число шагов обучения: 3000\n"
     ]
    }
   ],
   "source": [
    "# 7. Загрузка и тестирование лучшей модели\n",
    "best_model = PPO.load(\"./best_model/best_model\") # \"ppo_cartpole.zip\"\n",
    "obs = env.reset()\n",
    "rewards = []\n",
    "for _ in range(1000):\n",
    "    action, _ = best_model.predict(obs, deterministic=True)\n",
    "    obs, reward, done, info = env.step(action)\n",
    "    rewards.append(reward)\n",
    "    if done:\n",
    "        obs = env.reset()\n",
    "\n",
    "# 8. Визуализация результатов\n",
    "plt.figure(figsize=(10, 5))\n",
    "plt.plot(np.cumsum(rewards))\n",
    "plt.xlabel(\"Шаг\")\n",
    "plt.ylabel(\"Суммарная награда\")\n",
    "plt.title(\"Результаты тестирования PPO\")\n",
    "plt.grid()\n",
    "plt.savefig(\"./ppo_performance.png\")\n",
    "plt.show()\n",
    "\n",
    "# 9. Вывод статистики\n",
    "print(f\"Средняя награда за 1000 шагов: {np.mean(rewards):.2f}\")\n",
    "print(f\"Максимальная награда: {np.max(rewards)}\")\n",
    "print(f\"Общее число шагов обучения: {total_timesteps}\")\n",
    "\n",
    "# 10. Просмотр логов в TensorBoard (запустить в терминале)\n",
    "# tensorboard --logdir=./logs/"
   ]
  },
  {
   "cell_type": "code",
   "execution_count": 9,
   "id": "70fe9bd2",
   "metadata": {},
   "outputs": [
    {
     "name": "stdout",
     "output_type": "stream",
     "text": [
      "Saving video to c:\\Users\\Очир\\Desktop\\Учёба\\Машинное обучение\\videos\\ppo_cartpole_video-step-0-to-step-1000.mp4\n",
      "MoviePy - Building video c:\\Users\\Очир\\Desktop\\Учёба\\Машинное обучение\\videos\\ppo_cartpole_video-step-0-to-step-1000.mp4.\n",
      "MoviePy - Writing video c:\\Users\\Очир\\Desktop\\Учёба\\Машинное обучение\\videos\\ppo_cartpole_video-step-0-to-step-1000.mp4\n",
      "\n"
     ]
    },
    {
     "name": "stderr",
     "output_type": "stream",
     "text": [
      "                                                                          \r"
     ]
    },
    {
     "name": "stdout",
     "output_type": "stream",
     "text": [
      "MoviePy - Done !\n",
      "MoviePy - video ready c:\\Users\\Очир\\Desktop\\Учёба\\Машинное обучение\\videos\\ppo_cartpole_video-step-0-to-step-1000.mp4\n"
     ]
    }
   ],
   "source": [
    "from stable_baselines3.common.vec_env import VecVideoRecorder\n",
    "\n",
    "# 1. Создаем среду\n",
    "env = gym.make(\"CartPole-v1\", render_mode=\"rgb_array\")\n",
    "env = Monitor(env, \"./logs/\")\n",
    "env = DummyVecEnv([lambda: env])\n",
    "\n",
    "# 2. Загружаем обученную модель (или обучаем с нуля)\n",
    "model = PPO.load(\"ppo_cartpole.zip\")  # Путь к вашей модели\n",
    "\n",
    "# 3. Настройки записи видео\n",
    "video_length = 1000  # Длина видео в шагах\n",
    "video_folder = \"./videos/\"\n",
    "video_name = \"ppo_cartpole_video\"\n",
    "\n",
    "# 4. Обертка для записи видео\n",
    "env = VecVideoRecorder(\n",
    "    env,\n",
    "    video_folder,\n",
    "    record_video_trigger=lambda x: x == 0,  # Запись сразу\n",
    "    video_length=video_length,\n",
    "    name_prefix=video_name\n",
    ")\n",
    "\n",
    "# 5. Запуск агента и запись\n",
    "obs = env.reset()\n",
    "for _ in range(video_length):\n",
    "    action, _ = model.predict(obs, deterministic=True)\n",
    "    obs, _, _, _ = env.step(action)\n",
    "\n",
    "env.close()  # Видео сохранится автоматически"
   ]
  }
 ],
 "metadata": {
  "kernelspec": {
   "display_name": ".venv",
   "language": "python",
   "name": "python3"
  },
  "language_info": {
   "codemirror_mode": {
    "name": "ipython",
    "version": 3
   },
   "file_extension": ".py",
   "mimetype": "text/x-python",
   "name": "python",
   "nbconvert_exporter": "python",
   "pygments_lexer": "ipython3",
   "version": "3.12.6"
  }
 },
 "nbformat": 4,
 "nbformat_minor": 5
}
