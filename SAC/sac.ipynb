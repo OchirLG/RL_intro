{
 "cells": [
  {
   "cell_type": "markdown",
   "id": "3688a046-f0b0-44fb-a9ab-1545dce6a095",
   "metadata": {},
   "source": [
    "## Soft Actor Critic (SAC) ##\n",
    "\n",
    "Основные характеристики:\n",
    "1) Model-free\n",
    "2) Off-Policy\n",
    "3) Actor-Critic архитектура, (1 актер, 2 критика)\n",
    "5) Максимизация энтропии (учитываем не только награду, но и исследования через энтропию)\n",
    "\n",
    "Структура:\n",
    "\n",
    "<img src=\"SAC-algorithm.png\">"
   ]
  },
  {
   "cell_type": "code",
   "execution_count": 1,
   "id": "0831330d-2a58-4775-992b-48da360f0772",
   "metadata": {},
   "outputs": [],
   "source": [
    "import gymnasium as gym\n",
    "from gymnasium import spaces\n",
    "from stable_baselines3 import SAC\n",
    "from stable_baselines3.common.monitor import Monitor\n",
    "from stable_baselines3.common.callbacks import EvalCallback\n",
    "from stable_baselines3.common.vec_env import DummyVecEnv\n",
    "import matplotlib.pyplot as plt\n",
    "import numpy as np\n",
    "import os"
   ]
  },
  {
   "cell_type": "code",
   "execution_count": 2,
   "id": "ccdd9df1-9927-4617-a8ad-665259d1199e",
   "metadata": {},
   "outputs": [],
   "source": [
    "class StablePendulumEnv(gym.Wrapper):\n",
    "    def __init__(self, angle_threshold=0.1, velocity_threshold=0.1):\n",
    "        env = gym.make(\"Pendulum-v1\")\n",
    "        super().__init__(env)\n",
    "        \n",
    "        self.angle_threshold = angle_threshold\n",
    "        self.velocity_threshold = velocity_threshold\n",
    "        \n",
    "    def step(self, action):\n",
    "        obs, reward, terminated, truncated, info = self.env.step(action)\n",
    "        \n",
    "        \n",
    "        theta = np.arctan2(obs[1], obs[0])\n",
    "        theta_dot = obs[2]\n",
    "        \n",
    "        if (abs(theta) < self.angle_threshold) and (abs(theta_dot) < self.velocity_threshold):\n",
    "            terminated = True\n",
    "        \n",
    "        return obs, reward, terminated, truncated, info\n",
    "\n",
    "\n",
    "def create_env(mode=None, fast=False):\n",
    "    if fast:\n",
    "        env = StablePendulumEnv(angle_threshold=0.1, velocity_threshold=0.1)\n",
    "    else:\n",
    "        env = gym.make(\"Pendulum-v1\", render_mode=mode)  # Классический Pendulum из Gym\n",
    "    env = Monitor(env, \"./logs/\")  # Логирование статистики\n",
    "    env = DummyVecEnv([lambda: env])\n",
    "    return env"
   ]
  },
  {
   "cell_type": "code",
   "execution_count": 3,
   "id": "initial_id",
   "metadata": {
    "ExecuteTime": {
     "end_time": "2025-05-10T23:55:37.075219600Z",
     "start_time": "2025-05-10T23:55:31.592189800Z"
    }
   },
   "outputs": [
    {
     "name": "stdout",
     "output_type": "stream",
     "text": [
      "Using cpu device\n"
     ]
    }
   ],
   "source": [
    "env = create_env(fast=True)\n",
    "\n",
    "if True:\n",
    "    model = SAC(\n",
    "        \"MlpPolicy\",\n",
    "        env,\n",
    "        device='cpu',\n",
    "        verbose=1,\n",
    "        learning_rate=3e-4,\n",
    "        buffer_size=100_000,\n",
    "        batch_size=256,\n",
    "        ent_coef='auto',  # Автонастройка энтропии\n",
    "        gamma=0.99,\n",
    "        tau=0.005,\n",
    "    )\n",
    "else:\n",
    "    model = SAC.load(\"./best_model/best_model\", env=env)"
   ]
  },
  {
   "cell_type": "code",
   "execution_count": 1,
   "id": "34b3de0ff4757bed",
   "metadata": {
    "ExecuteTime": {
     "end_time": "2025-05-11T17:34:04.975439200Z",
     "start_time": "2025-05-11T17:34:04.720096700Z"
    },
    "collapsed": false,
    "jupyter": {
     "outputs_hidden": false
    }
   },
   "outputs": [
    {
     "ename": "NameError",
     "evalue": "name 'asdasd' is not defined",
     "output_type": "error",
     "traceback": [
      "\u001b[1;31m---------------------------------------------------------------------------\u001b[0m",
      "\u001b[1;31mNameError\u001b[0m                                 Traceback (most recent call last)",
      "Cell \u001b[1;32mIn[1], line 1\u001b[0m\n\u001b[1;32m----> 1\u001b[0m \u001b[43masdasd\u001b[49m\n\u001b[0;32m      2\u001b[0m eval_callback \u001b[38;5;241m=\u001b[39m EvalCallback(\n\u001b[0;32m      3\u001b[0m     env,\n\u001b[0;32m      4\u001b[0m     best_model_save_path\u001b[38;5;241m=\u001b[39m\u001b[38;5;124m\"\u001b[39m\u001b[38;5;124m./best_model/\u001b[39m\u001b[38;5;124m\"\u001b[39m,\n\u001b[1;32m   (...)\u001b[0m\n\u001b[0;32m      7\u001b[0m     deterministic\u001b[38;5;241m=\u001b[39m\u001b[38;5;28;01mTrue\u001b[39;00m\n\u001b[0;32m      8\u001b[0m )\n\u001b[0;32m      9\u001b[0m \u001b[38;5;66;03m# 3. Обучаем агента (10,000 шагов для демо)\u001b[39;00m\n",
      "\u001b[1;31mNameError\u001b[0m: name 'asdasd' is not defined"
     ]
    }
   ],
   "source": [
    "eval_callback = EvalCallback(\n",
    "    env,\n",
    "    best_model_save_path=\"./best_model/\",\n",
    "    log_path=\"./logs/\",\n",
    "    eval_freq=1000,           # Частота оценки (в шагах)\n",
    "    deterministic=True\n",
    ")\n",
    "# 3. Обучаем агента (10,000 шагов для демо)\n",
    "model.learn(total_timesteps=10_000, progress_bar=True, callback=eval_callback)\n",
    "\n",
    "# model.save(\"./sac_cartpole\")\n",
    "# print(\"Модель сохранена в sac_cartpole.zip\")"
   ]
  },
  {
   "cell_type": "code",
   "execution_count": 5,
   "id": "b8b045d087e158f0",
   "metadata": {
    "ExecuteTime": {
     "end_time": "2025-05-11T00:07:22.324152500Z",
     "start_time": "2025-05-11T00:07:22.193852600Z"
    },
    "collapsed": false,
    "jupyter": {
     "outputs_hidden": false
    }
   },
   "outputs": [
    {
     "data": {
      "image/png": "[encoded data removed]",
      "text/plain": [
       "<Figure size 1000x500 with 1 Axes>"
      ]
     },
     "metadata": {},
     "output_type": "display_data"
    },
    {
     "ename": "ValueError",
     "evalue": "setting an array element with a sequence. The requested array has an inhomogeneous shape after 1 dimensions. The detected shape was (6,) + inhomogeneous part.",
     "output_type": "error",
     "traceback": [
      "\u001b[1;31m---------------------------------------------------------------------------\u001b[0m",
      "\u001b[1;31mValueError\u001b[0m                                Traceback (most recent call last)",
      "Cell \u001b[1;32mIn[5], line 28\u001b[0m\n\u001b[0;32m     25\u001b[0m plt\u001b[38;5;241m.\u001b[39mshow()\n\u001b[0;32m     27\u001b[0m \u001b[38;5;66;03m# 9. Вывод статистики\u001b[39;00m\n\u001b[1;32m---> 28\u001b[0m \u001b[38;5;28mprint\u001b[39m(\u001b[38;5;124mf\u001b[39m\u001b[38;5;124m\"\u001b[39m\u001b[38;5;124mСредняя награда за 1000 шагов: \u001b[39m\u001b[38;5;132;01m{\u001b[39;00m\u001b[43mnp\u001b[49m\u001b[38;5;241;43m.\u001b[39;49m\u001b[43mmean\u001b[49m\u001b[43m(\u001b[49m\u001b[43mrewards\u001b[49m\u001b[43m)\u001b[49m\u001b[38;5;132;01m:\u001b[39;00m\u001b[38;5;124m.2f\u001b[39m\u001b[38;5;132;01m}\u001b[39;00m\u001b[38;5;124m\"\u001b[39m)\n\u001b[0;32m     29\u001b[0m \u001b[38;5;28mprint\u001b[39m(\u001b[38;5;124mf\u001b[39m\u001b[38;5;124m\"\u001b[39m\u001b[38;5;124mМаксимальная награда: \u001b[39m\u001b[38;5;132;01m{\u001b[39;00mnp\u001b[38;5;241m.\u001b[39mmax(rewards)\u001b[38;5;132;01m}\u001b[39;00m\u001b[38;5;124m\"\u001b[39m)\n",
      "File \u001b[1;32m~\\AppData\\Local\\Programs\\Python\\Python312\\Lib\\site-packages\\numpy\\core\\fromnumeric.py:3504\u001b[0m, in \u001b[0;36mmean\u001b[1;34m(a, axis, dtype, out, keepdims, where)\u001b[0m\n\u001b[0;32m   3501\u001b[0m     \u001b[38;5;28;01melse\u001b[39;00m:\n\u001b[0;32m   3502\u001b[0m         \u001b[38;5;28;01mreturn\u001b[39;00m mean(axis\u001b[38;5;241m=\u001b[39maxis, dtype\u001b[38;5;241m=\u001b[39mdtype, out\u001b[38;5;241m=\u001b[39mout, \u001b[38;5;241m*\u001b[39m\u001b[38;5;241m*\u001b[39mkwargs)\n\u001b[1;32m-> 3504\u001b[0m \u001b[38;5;28;01mreturn\u001b[39;00m \u001b[43m_methods\u001b[49m\u001b[38;5;241;43m.\u001b[39;49m\u001b[43m_mean\u001b[49m\u001b[43m(\u001b[49m\u001b[43ma\u001b[49m\u001b[43m,\u001b[49m\u001b[43m \u001b[49m\u001b[43maxis\u001b[49m\u001b[38;5;241;43m=\u001b[39;49m\u001b[43maxis\u001b[49m\u001b[43m,\u001b[49m\u001b[43m \u001b[49m\u001b[43mdtype\u001b[49m\u001b[38;5;241;43m=\u001b[39;49m\u001b[43mdtype\u001b[49m\u001b[43m,\u001b[49m\n\u001b[0;32m   3505\u001b[0m \u001b[43m                      \u001b[49m\u001b[43mout\u001b[49m\u001b[38;5;241;43m=\u001b[39;49m\u001b[43mout\u001b[49m\u001b[43m,\u001b[49m\u001b[43m \u001b[49m\u001b[38;5;241;43m*\u001b[39;49m\u001b[38;5;241;43m*\u001b[39;49m\u001b[43mkwargs\u001b[49m\u001b[43m)\u001b[49m\n",
      "File \u001b[1;32m~\\AppData\\Local\\Programs\\Python\\Python312\\Lib\\site-packages\\numpy\\core\\_methods.py:102\u001b[0m, in \u001b[0;36m_mean\u001b[1;34m(a, axis, dtype, out, keepdims, where)\u001b[0m\n\u001b[0;32m    101\u001b[0m \u001b[38;5;28;01mdef\u001b[39;00m \u001b[38;5;21m_mean\u001b[39m(a, axis\u001b[38;5;241m=\u001b[39m\u001b[38;5;28;01mNone\u001b[39;00m, dtype\u001b[38;5;241m=\u001b[39m\u001b[38;5;28;01mNone\u001b[39;00m, out\u001b[38;5;241m=\u001b[39m\u001b[38;5;28;01mNone\u001b[39;00m, keepdims\u001b[38;5;241m=\u001b[39m\u001b[38;5;28;01mFalse\u001b[39;00m, \u001b[38;5;241m*\u001b[39m, where\u001b[38;5;241m=\u001b[39m\u001b[38;5;28;01mTrue\u001b[39;00m):\n\u001b[1;32m--> 102\u001b[0m     arr \u001b[38;5;241m=\u001b[39m \u001b[43masanyarray\u001b[49m\u001b[43m(\u001b[49m\u001b[43ma\u001b[49m\u001b[43m)\u001b[49m\n\u001b[0;32m    104\u001b[0m     is_float16_result \u001b[38;5;241m=\u001b[39m \u001b[38;5;28;01mFalse\u001b[39;00m\n\u001b[0;32m    106\u001b[0m     rcount \u001b[38;5;241m=\u001b[39m _count_reduce_items(arr, axis, keepdims\u001b[38;5;241m=\u001b[39mkeepdims, where\u001b[38;5;241m=\u001b[39mwhere)\n",
      "\u001b[1;31mValueError\u001b[0m: setting an array element with a sequence. The requested array has an inhomogeneous shape after 1 dimensions. The detected shape was (6,) + inhomogeneous part."
     ]
    }
   ],
   "source": [
    "best_model = SAC.load(\"./best_model/best_model\")\n",
    "best_model = model\n",
    "test_env = create_env(\"human\")\n",
    "rewards = [[]]\n",
    "\n",
    "# 4. Тестируем агента\n",
    "obs = test_env.reset()\n",
    "for _ in range(1000):\n",
    "    action, _ = best_model.predict(obs, deterministic=True)\n",
    "    obs, reward, done, _ = test_env.step(action)  # Gym возвращает 4 значения (без info)\n",
    "    rewards[-1].append(reward[0])\n",
    "    if done:\n",
    "        rewards.append([])\n",
    "        obs = test_env.reset()\n",
    "test_env.close()\n",
    "\n",
    "# 8. Визуализация результатов\n",
    "plt.figure(figsize=(10, 5))\n",
    "plt.plot(np.swapaxes(np.cumsum(rewards[:-1], axis=1), 0, 1))\n",
    "plt.xlabel(\"Шаг\")\n",
    "plt.ylabel(\"Суммарная награда\")\n",
    "plt.title(\"Результаты тестирования SAC\")\n",
    "plt.grid()\n",
    "plt.savefig(\"./sac_performance.png\")\n",
    "plt.show()\n",
    "\n",
    "# 9. Вывод статистики\n",
    "print(f\"Средняя награда за 1000 шагов: {np.mean(rewards):.2f}\")\n",
    "print(f\"Максимальная награда: {np.max(rewards)}\")"
   ]
  },
  {
   "cell_type": "code",
   "execution_count": 11,
   "id": "9bf9b0ab87553ca2",
   "metadata": {
    "ExecuteTime": {
     "end_time": "2025-05-10T23:55:21.714432Z",
     "start_time": "2025-05-10T23:55:05.191467500Z"
    },
    "collapsed": false,
    "jupyter": {
     "outputs_hidden": false
    }
   },
   "outputs": [
    {
     "name": "stdout",
     "output_type": "stream",
     "text": [
      "[[-0.59088945 -0.80675256  0.83110577]]\n",
      "[[-1.0000000e+00  1.2246469e-16  0.0000000e+00]]\n",
      "Saving video to C:\\Users\\4ert\\Desktop\\учеба\\REI\\videos\\sac_cartpole_video20250511_043311-step-0-to-step-1000.mp4\n",
      "MoviePy - Building video C:\\Users\\4ert\\Desktop\\учеба\\REI\\videos\\sac_cartpole_video20250511_043311-step-0-to-step-1000.mp4.\n",
      "MoviePy - Writing video C:\\Users\\4ert\\Desktop\\учеба\\REI\\videos\\sac_cartpole_video20250511_043311-step-0-to-step-1000.mp4\n"
     ]
    },
    {
     "name": "stderr",
     "output_type": "stream",
     "text": [
      "                                                                           \r"
     ]
    },
    {
     "name": "stdout",
     "output_type": "stream",
     "text": [
      "MoviePy - Done !\n",
      "MoviePy - video ready C:\\Users\\4ert\\Desktop\\учеба\\REI\\videos\\sac_cartpole_video20250511_043311-step-0-to-step-1000.mp4\n"
     ]
    }
   ],
   "source": [
    "from stable_baselines3.common.vec_env import VecVideoRecorder\n",
    "from datetime import datetime\n",
    "# 1. Создаем среду\n",
    "env = create_env(\"rgb_array\")\n",
    "\n",
    "# 2. Загружаем обученную модель (или обучаем с нуля)\n",
    "model = SAC.load(\"./best_model/best_model\")  # Путь к вашей модели\n",
    "\n",
    "# 4. Обертка для записи видео\n",
    "video_length=1000\n",
    "env = VecVideoRecorder(\n",
    "    env,\n",
    "    \"./videos/\",\n",
    "    record_video_trigger=lambda x: x == 0,  # Запись сразу\n",
    "    video_length=video_length,\n",
    "    name_prefix=\"sac_cartpole_video\" + datetime.now().strftime(\"%Y%m%d_%H%M%S\")\n",
    ")\n",
    "\n",
    "# 5. Запуск агента и запись\n",
    "obs = env.reset()\n",
    "for _ in range(video_length):\n",
    "    action, _ = model.predict(obs, deterministic=True)\n",
    "    obs, _, _, _ = env.step(action)\n",
    "\n",
    "env.close()  # Видео сохранится автоматически"
   ]
  },
  {
   "cell_type": "code",
   "execution_count": 13,
   "id": "deb8314f-74e2-47b5-8648-5fe665258c5e",
   "metadata": {},
   "outputs": [
    {
     "name": "stdout",
     "output_type": "stream",
     "text": [
      "Saving video to C:\\Users\\4ert\\Desktop\\учеба\\REI\\videos\\sac_cartpole_video20250511_043556-step-0-to-step-1000.mp4\n",
      "MoviePy - Building video C:\\Users\\4ert\\Desktop\\учеба\\REI\\videos\\sac_cartpole_video20250511_043556-step-0-to-step-1000.mp4.\n",
      "MoviePy - Writing video C:\\Users\\4ert\\Desktop\\учеба\\REI\\videos\\sac_cartpole_video20250511_043556-step-0-to-step-1000.mp4\n"
     ]
    },
    {
     "name": "stderr",
     "output_type": "stream",
     "text": [
      "                                                                           \r"
     ]
    },
    {
     "name": "stdout",
     "output_type": "stream",
     "text": [
      "MoviePy - Done !\n",
      "MoviePy - video ready C:\\Users\\4ert\\Desktop\\учеба\\REI\\videos\\sac_cartpole_video20250511_043556-step-0-to-step-1000.mp4\n"
     ]
    }
   ],
   "source": [
    "class ControllablePendulumEnv(gym.Wrapper):\n",
    "    def __init__(self):\n",
    "        env = gym.make(\"Pendulum-v1\", render_mode=\"rgb_array\")\n",
    "        super().__init__(env)\n",
    "        self._init_angle = None\n",
    "        self._init_velocity = None\n",
    "\n",
    "    def set_init_state(self, angle, velocity):\n",
    "        \"\"\"Установить начальный угол (в радианах) и скорость.\"\"\"\n",
    "        self._init_angle = angle\n",
    "        self._init_velocity = velocity\n",
    "\n",
    "    def reset(self, **kwargs):\n",
    "        obs, info = self.env.reset(**kwargs)\n",
    "        if self._init_angle is not None and self._init_velocity is not None:\n",
    "            # Принудительно задаём состояние\n",
    "            self.unwrapped.state = np.array(\n",
    "                [self._init_angle, self._init_velocity], \n",
    "                dtype=np.float32\n",
    "            )\n",
    "            obs = np.array([\n",
    "                np.cos(self._init_angle),\n",
    "                np.sin(self._init_angle),\n",
    "                self._init_velocity\n",
    "            ], dtype=np.float32)\n",
    "        return obs, info\n",
    "\n",
    "# Пример использования\n",
    "env = ControllablePendulumEnv()\n",
    "env.set_init_state(angle=np.pi, velocity=0)  \n",
    "env = Monitor(env, \"./logs/\")\n",
    "env = DummyVecEnv([lambda: env])\n",
    "\n",
    "model = SAC.load(\"./best_model/best_model\")\n",
    "\n",
    "video_length=1000\n",
    "env = VecVideoRecorder(\n",
    "    env,\n",
    "    \"./videos/\",\n",
    "    record_video_trigger=lambda x: x == 0,\n",
    "    video_length=video_length,\n",
    "    name_prefix=\"sac_cartpole_video\" + datetime.now().strftime(\"%Y%m%d_%H%M%S\")\n",
    ")\n",
    "\n",
    "obs = env.reset()\n",
    "for _ in range(video_length):\n",
    "    action, _ = model.predict(obs, deterministic=True)\n",
    "    obs, _, _, _ = env.step(action)\n",
    "\n",
    "env.close() "
   ]
  },
  {
   "cell_type": "code",
   "execution_count": null,
   "id": "11c03342-53f2-474b-b7ec-1d54c6d1c832",
   "metadata": {},
   "outputs": [],
   "source": []
  }
 ],
 "metadata": {
  "kernelspec": {
   "display_name": "Python 3 (ipykernel)",
   "language": "python",
   "name": "python3"
  },
  "language_info": {
   "codemirror_mode": {
    "name": "ipython",
    "version": 3
   },
   "file_extension": ".py",
   "mimetype": "text/x-python",
   "name": "python",
   "nbconvert_exporter": "python",
   "pygments_lexer": "ipython3",
   "version": "3.12.2"
  }
 },
 "nbformat": 4,
 "nbformat_minor": 5
}
